{
  "cells": [
    {
      "cell_type": "markdown",
      "metadata": {},
      "source": [
        "---\n",
        "title: \"LS 빅데이터 스쿨 Homework 9\"\n",
        "author: \"승학\"\n",
        "date: \"2024-09-10\"\n",
        "categories: [bigdata]\n",
        "\n",
        "---\n",
        "\n",
        "\n",
        "\n",
        "## 문제\n",
        "\n",
        "**종속변수: 백혈병 세포 관측 불가 여부 (REMISS), 1이면 관측 안됨을 의미**\n",
        "\n",
        "**독립변수:**\n",
        "**골수의 세포성 (CELL)**<br>\n",
        "**골수편의 백혈구 비율 (SMEAR)**<br>\n",
        "**골수의 백혈병 세포 침투 비율 (INFIL)**<br>\n",
        "**골수 백혈병 세포의 라벨링 인덱스 (LI)**<br>\n",
        "**말초혈액의 백혈병 세포 수 (BLAST)**<br>\n",
        "**치료 시작 전 최고 체온 (TEMP)**\n",
        "\n",
        "## Q1.\n",
        "**데이터를 로드하고, 로지스틱 회귀모델을 적합하고, 회귀 표를 작성하세요**\n"
      ],
      "id": "7ec4d861"
    },
    {
      "cell_type": "code",
      "metadata": {},
      "source": [
        "# 워킹 디렉토리 확인하기\n",
        "import pandas as pd\n",
        "import statsmodels.api as sm\n",
        "import os\n",
        "cwd = os.getcwd()\n",
        "cwd\n",
        "\n",
        "# 데이터 로드하기\n",
        "df = pd.read_table('./data/leukemia_remission.txt',delim_whitespace=True)\n",
        "\n",
        "df\n",
        "\n",
        "# 로지스틱 회귀모델 적합 후, 회귀 표 작성\n",
        "\n",
        "model = sm.formula.logit(\"REMISS ~ CELL + SMEAR + INFIL + LI + BLAST + TEMP\", data = df).fit()\n",
        "\n",
        "print(model.summary())"
      ],
      "id": "14613f57",
      "execution_count": null,
      "outputs": []
    },
    {
      "cell_type": "markdown",
      "metadata": {},
      "source": [
        "## Q2.\n",
        "**해당 모델은 통계적으로 유의한가요? 그 이유를 검정통계량를 사용해서 설명하시오.**\n"
      ],
      "id": "9d81a628"
    },
    {
      "cell_type": "code",
      "metadata": {},
      "source": [
        "from scipy.stats import chi2\n",
        "# 검정통계량 : −2(ℓ(𝛽)̂ (0) − ℓ(𝛽)̂ )  =  -2*(-17.186+10.797)  = 12.779\n",
        "1 - chi2.cdf(12.779, df=6)  # 0.0467\n",
        "\n",
        "# 결론 : LLR p-value: 0.0467 < 유의수준 0.05보다 작으니까 통계적으로 유의하다고 할 수 있다."
      ],
      "id": "54747677",
      "execution_count": null,
      "outputs": []
    },
    {
      "cell_type": "markdown",
      "metadata": {},
      "source": [
        "## Q3.\n",
        "**유의수준 0.2를 기준으로 통계적으로 유의한 변수**\n"
      ],
      "id": "525e5970"
    },
    {
      "cell_type": "code",
      "metadata": {},
      "source": [
        "# p-value가 0.2보다 작은 변수 = LI, TEMP"
      ],
      "id": "3404675d",
      "execution_count": null,
      "outputs": []
    },
    {
      "cell_type": "markdown",
      "metadata": {},
      "source": [
        "## Q4.\n",
        "**다음 환자에 대한 오즈는 얼마인가요?**<br>\n",
        "**CELL (골수의 세포성): 65%**<br>\n",
        "**SMEAR (골수편의 백혈구 비율): 45%**<br>\n",
        "**INFIL (골수의 백혈병 세포 침투 비율): 55%**<br>\n",
        "**LI (골수 백혈병 세포의 라벨링 인덱스): 1.2**<br>\n",
        "**BLAST (말초혈액의 백혈병 세포 수): 1.1세포/μL**<br>\n",
        "**TEMP (치료 시작 전 최고 체온): 0.9**\n"
      ],
      "id": "d2838940"
    },
    {
      "cell_type": "code",
      "metadata": {},
      "source": [
        "import numpy as np\n",
        "\n",
        "odds = np.exp(64.258 + 30.830 * 0.65 + 24.686 * 0.45 + (-24.975) * 0.55 + 4.361 * 1.2 + (-0.012) * 1.1 + (-100.173) * 0.9)\n",
        "\n",
        "odds  # 0.038"
      ],
      "id": "d26c3aa7",
      "execution_count": null,
      "outputs": []
    },
    {
      "cell_type": "markdown",
      "metadata": {},
      "source": [
        "## Q5. \n",
        "**위 환자의 혈액에서 백혈병 세포가 관측되지 않은 확률은 얼마인가요?**\n"
      ],
      "id": "22615bb5"
    },
    {
      "cell_type": "code",
      "metadata": {},
      "source": [
        "odds / (1 + odds) # 0.037"
      ],
      "id": "491d3a1f",
      "execution_count": null,
      "outputs": []
    },
    {
      "cell_type": "markdown",
      "metadata": {},
      "source": [
        "## Q6. \n",
        "**TEMP 변수의 계수는 얼마이며, 해당 계수를 사용해서 TEMP 변수가 백혈병 치료에 대한 영향을 설명하시오.**\n"
      ],
      "id": "409853ee"
    },
    {
      "cell_type": "code",
      "metadata": {},
      "source": [
        "# TEMP 변수의 계수 = -100.173\n",
        "# 오즈비 3.127\n",
        "# TEMP가 1 올라가면 로그 오즈는 157.86만큼 감소하며, 백혈병 상태에 도달할 가능성이 크게 줄어든다\n",
        "\n",
        "np.exp(-100.173)"
      ],
      "id": "9d30c047",
      "execution_count": null,
      "outputs": []
    },
    {
      "cell_type": "markdown",
      "metadata": {},
      "source": [
        "## Q7. \n",
        "**CELL 변수의 99% 오즈비에 대한 신뢰구간을 구하시오.**\n"
      ],
      "id": "855624f1"
    },
    {
      "cell_type": "code",
      "metadata": {},
      "source": [
        "cell_beta = 30.830\n",
        "z = 2.58\n",
        "std_err = 52.135\n",
        "\n",
        "upper = cell_beta + z * std_err\n",
        "lower = cell_beta - z * std_err\n",
        "\n",
        "# CELL 변수 계수의 신뢰구간\n",
        "upper # 165.34\n",
        "lower # -103.68\n",
        "\n",
        "# CELL 변수 오즈비에 대한 신뢰구간\n",
        "\n",
        "np.exp(upper), np.exp(lower) "
      ],
      "id": "23760e60",
      "execution_count": null,
      "outputs": []
    },
    {
      "cell_type": "markdown",
      "metadata": {},
      "source": [
        "## Q8. \n",
        "**주어진 데이터에 대하여 로지스틱 회귀 모델의 예측 확률을 구한 후, 50% 이상인 경우 1로 처리하여, 혼동 행렬를 구하시오.**\n"
      ],
      "id": "aecdc732"
    },
    {
      "cell_type": "code",
      "metadata": {},
      "source": [
        "from sklearn.metrics import confusion_matrix\n",
        "\n",
        "# 1. 모델을 사용하여 예측 확률을 계산\n",
        "pred_probs = model.predict(df)\n",
        "\n",
        "# 2. 50% 기준으로 이진화 (0 또는 1로 변환)\n",
        "predictions = [1 if prob > 0.5 else 0 for prob in pred_probs]\n",
        "\n",
        "# 3. 실제 값 (df['REMISS'])과 예측 값 (predictions) 비교하여 혼동 행렬 계산\n",
        "conf_matrix = confusion_matrix(df['REMISS'], predictions)\n",
        "\n",
        "# 혼동 행렬 출력\n",
        "conf_matrix"
      ],
      "id": "ed1086be",
      "execution_count": null,
      "outputs": []
    },
    {
      "cell_type": "markdown",
      "metadata": {},
      "source": [
        "## Q9. \n",
        "**해당 모델의 Accuracy는 얼마인가요?**\n"
      ],
      "id": "b18232b4"
    },
    {
      "cell_type": "code",
      "metadata": {},
      "source": [
        "# Accuracy = 전체 예측에서 옳은 예측의 비율\n",
        "\n",
        "Accuracy = (15 + 5) / (15 + 3 + 4 + 5)\n",
        "Accuracy # 0.741"
      ],
      "id": "e7075d0d",
      "execution_count": null,
      "outputs": []
    },
    {
      "cell_type": "markdown",
      "metadata": {},
      "source": [
        "## Q10. \n",
        "**해당 모델의 F1 Score를 구하세요.**\n"
      ],
      "id": "54f4eff0"
    },
    {
      "cell_type": "code",
      "metadata": {},
      "source": [
        "pre = 5 / (5 + 3)\n",
        "re = 5 / (5 + 4)\n",
        "\n",
        "F1 = 2 * (pre * re) / (pre + re)\n",
        "F1 # 0.588"
      ],
      "id": "a25d2041",
      "execution_count": null,
      "outputs": []
    }
  ],
  "metadata": {
    "kernelspec": {
      "name": "python3",
      "language": "python",
      "display_name": "Python 3 (ipykernel)",
      "path": "C:\\DS\\Python\\Python312\\share\\jupyter\\kernels\\python3"
    }
  },
  "nbformat": 4,
  "nbformat_minor": 5
}