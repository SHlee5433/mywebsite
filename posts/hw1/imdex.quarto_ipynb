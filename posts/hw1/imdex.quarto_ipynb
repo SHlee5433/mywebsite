{
  "cells": [
    {
      "cell_type": "markdown",
      "metadata": {},
      "source": [
        "---\n",
        "title: \"LS 빅데이터 스쿨 Homework 1\"\n",
        "author: \"승학\"\n",
        "date: \"2024-07-12\"\n",
        "caregories: [bigdata]\n",
        "---\n",
        "\n",
        "\n",
        "\n",
        "\n",
        "## Q1-1 다음 표의 내용을 데이터 프레임으로 만들어 출력해 보세요.\n"
      ],
      "id": "c15dec2e"
    },
    {
      "cell_type": "code",
      "metadata": {},
      "source": [
        "import pandas as pd\n",
        "\n",
        "df = pd.DataFrame({\"제품\" : [\"사과\", \"딸기\", \"수박\"], \"가격\" : [1800, 1500, 3000],\n",
        "                    \"판매량\" : [24, 38, 13]\n",
        "    \n",
        "})\n",
        "df"
      ],
      "id": "19c20ff7",
      "execution_count": null,
      "outputs": []
    },
    {
      "cell_type": "markdown",
      "metadata": {},
      "source": [
        "## Q1-2 앞에서 만든 데이터 프레임을 이용해 과일의 가격 평균과 판매량 평균을 구해 보세요.\n"
      ],
      "id": "22fa0818"
    },
    {
      "cell_type": "code",
      "metadata": {},
      "source": [
        "import pandas as pd\n",
        "\n",
        "가격평균 = sum(df[\"가격\"])/3\n",
        "print( \"가격의 평균 = \", 가격평균)\n",
        "\n",
        "판매량평균 = sum(df[\"판매량\"])/3\n",
        "print(\"판매량의 평균 = \", 판매량평균)"
      ],
      "id": "910ad078",
      "execution_count": null,
      "outputs": []
    },
    {
      "cell_type": "markdown",
      "metadata": {},
      "source": [
        "## mpg 데이터를 이용해 분석 문제를 해결해 보세요.\n",
        "\n",
        "## Q 2-1 mpg 데이터를 불러와 복사본을 만드세요.\n"
      ],
      "id": "866a85e9"
    },
    {
      "cell_type": "code",
      "metadata": {},
      "source": [
        "mpg = pd.read_csv(\"mpg.csv\")\n",
        "mpg"
      ],
      "id": "6f2a2870",
      "execution_count": null,
      "outputs": []
    },
    {
      "cell_type": "markdown",
      "metadata": {},
      "source": [
        "## Q 2-2 복사본 데이터를 이용해 cty는 city로, hwy는 highway로 수정하세요 .\n"
      ],
      "id": "7f711eda"
    },
    {
      "cell_type": "code",
      "metadata": {},
      "source": [
        "mpg = mpg.rename(columns = {\"cty\" : \"city\"})\n",
        "mpg = mpg.rename(columns = {\"hwy\" : \"highway\"})\n",
        "mpg"
      ],
      "id": "5179c34e",
      "execution_count": null,
      "outputs": []
    },
    {
      "cell_type": "markdown",
      "metadata": {},
      "source": [
        "## Q 2-3 데이터 일부를 출력해 변수명이 바뀌었는지 확인해 보세요. 다음과 같은 결과물이 출력되어야 합니다.\n"
      ],
      "id": "50c4cead"
    },
    {
      "cell_type": "code",
      "metadata": {},
      "source": [
        "mpg.head()"
      ],
      "id": "b85dfe11",
      "execution_count": null,
      "outputs": []
    },
    {
      "cell_type": "markdown",
      "metadata": {},
      "source": [
        "## midwest.csv는 미국 동북중부 437개 지역의 인구 통계 정보를 담고 있습니다. midwest.csv를 이용해 데이터 분석 문제를 해결해 보세요.\n",
        "\n",
        "## Q 3-1 midwest.csv를  불러와 데이터의 특징을 파악하세요.\n"
      ],
      "id": "636b688f"
    },
    {
      "cell_type": "code",
      "metadata": {},
      "source": [
        "mid = pd.read_csv(\"midwest.csv\")\n",
        "mid\n",
        "mid.head\n",
        "mid.tail\n",
        "mid.shape\n",
        "mid.info()\n",
        "mid.describe()"
      ],
      "id": "4a701b16",
      "execution_count": null,
      "outputs": []
    },
    {
      "cell_type": "markdown",
      "metadata": {},
      "source": [
        "## Q 3-2 poptotal(전체인구) 변수를 total로, popasian(아시아 인구) 변수를 asian으로 수정하세요.\n"
      ],
      "id": "a75c00a9"
    },
    {
      "cell_type": "code",
      "metadata": {},
      "source": [
        "mid = mid.rename(columns = {\"poptotal\" : \"total\"})\n",
        "mid = mid.rename(columns = {\"popasian\" : \"asian\"})\n",
        "\n",
        "mid.columns"
      ],
      "id": "420d7b5a",
      "execution_count": null,
      "outputs": []
    },
    {
      "cell_type": "markdown",
      "metadata": {},
      "source": [
        "## Q 3-3 total, asian  변수를 이용해 '전체 인구 대비 아시아 인구 백분율' 파생변수를 추가하고 히스토그램을 만들어 분포를 살펴보세요.\n"
      ],
      "id": "efa4eda3"
    },
    {
      "cell_type": "code",
      "metadata": {},
      "source": [
        "import matplotlib.pyplot as plt\n",
        "\n",
        "mid[\"전체 인구 대비 아시아 인구 백분율\"] = (mid[\"asian\"] / mid[\"total\"]) * 100\n",
        "mid[\"전체 인구 대비 아시아 인구 백분율\"].plot.hist()\n",
        "plt.show()\n",
        "plt.clf()"
      ],
      "id": "df1bbb54",
      "execution_count": null,
      "outputs": []
    },
    {
      "cell_type": "markdown",
      "metadata": {},
      "source": [
        "## Q 3-4 아시아 인구 백분율 전체 평균을 구하고, 평균을 초과하면 'large', 그외에는 'small'을 부여한 파생변수를 만들어보세요.\n"
      ],
      "id": "a2120e51"
    },
    {
      "cell_type": "code",
      "metadata": {},
      "source": [
        "import numpy as np\n",
        "\n",
        "mean=mid[\"전체 인구 대비 아시아 인구 백분율\"].mean()\n",
        "mid[\"PS\"] = np.where(mid[\"전체 인구 대비 아시아 인구 백분율\"] > mean, \"large\", \"small\")\n",
        "mid"
      ],
      "id": "01d4d49f",
      "execution_count": null,
      "outputs": []
    },
    {
      "cell_type": "markdown",
      "metadata": {},
      "source": [
        "## Q 3-5 'large'와 'small'에 해당하는 지역이 얼마나 많은지 빈도표와 빈도 막대 그래프를 만들어 확인해 보세요.\n"
      ],
      "id": "3ccaa8b7"
    },
    {
      "cell_type": "code",
      "metadata": {},
      "source": [
        "mid[\"PS\"].value_counts().plot.bar(rot = 0)\n",
        "plt.show()\n",
        "plt.clf()\n",
        "type(mid[\"PS\"])"
      ],
      "id": "8cedfdfc",
      "execution_count": null,
      "outputs": []
    }
  ],
  "metadata": {
    "kernelspec": {
      "name": "python3",
      "language": "python",
      "display_name": "Python 3 (ipykernel)",
      "path": "C:\\DS\\Python\\Python312\\share\\jupyter\\kernels\\python3"
    }
  },
  "nbformat": 4,
  "nbformat_minor": 5
}