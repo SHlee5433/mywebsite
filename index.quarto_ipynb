{
  "cells": [
    {
      "cell_type": "markdown",
      "metadata": {},
      "source": [
        "---\n",
        "title: \"testwebsite\"\n",
        "jupyter: python3\n",
        "---\n",
        "\n",
        "\n",
        "## 홈페이지 첫 화면입니다!\n",
        "\n",
        "안녕하세요, 데이터 분석 DS이승학 입니다."
      ],
      "id": "859e1841"
    }
  ],
  "metadata": {
    "kernelspec": {
      "display_name": "Python 3",
      "language": "python",
      "name": "python3"
    }
  },
  "nbformat": 4,
  "nbformat_minor": 5
}